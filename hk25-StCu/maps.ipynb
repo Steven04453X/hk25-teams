{
 "cells": [
  {
   "cell_type": "code",
   "execution_count": null,
   "id": "62c99f09-63fa-4132-abfa-85f0f1d1e473",
   "metadata": {},
   "outputs": [],
   "source": [
    "import intake\n",
    "from easygems import healpix as egh\n",
    "\n",
    "import numpy as np\n",
    "\n",
    "import matplotlib.pyplot as plt\n",
    "import cartopy.crs as ccrs\n",
    "import cartopy.feature as cf\n",
    "\n",
    "import warnings\n",
    "\n",
    "warnings.filterwarnings(\"ignore\", category=FutureWarning)"
   ]
  },
  {
   "cell_type": "code",
   "execution_count": null,
   "id": "15bf252a-3bb0-4b50-af44-5a642997cf6c",
   "metadata": {},
   "outputs": [],
   "source": [
    "# Time period\n",
    "\n",
    "time = ('2020-08-01','2020-08-31')\n",
    "\n",
    "# Region\n",
    "\n",
    "domains10x10 = {\n",
    "    \"peruvian\":     np.array([-90, -80, -20, -10]) ,\n",
    "    \"namibian\":     np.array([0, 10, -20, -10]),\n",
    "    \"californian\":  np.array([-130, -120, 20, 30]),\n",
    "    \"canarian\":     np.array([-35, -25, 15, 25])\n",
    "}\n",
    "\n",
    "map_domain = domains10x10['namibian'] + np.array([-1,1,-1,1])*0"
   ]
  },
  {
   "cell_type": "code",
   "execution_count": null,
   "id": "46b69400-80d3-4adb-b4ec-cbac61feb3fb",
   "metadata": {},
   "outputs": [],
   "source": [
    "# Load dataset\n",
    "\n",
    "hknode = 'EU'\n",
    "sim = 'icon_d3hp003'\n",
    "zoom = 11\n",
    "\n",
    "\n",
    "cat = intake.open_catalog(\"https://digital-earths-global-hackathon.github.io/catalog/catalog.yaml\")[hknode]\n",
    "\n",
    "ds_globe = cat[sim](time_method='inst',time='PT6H',zoom=zoom).to_dask().pipe(egh.attach_coords)"
   ]
  },
  {
   "cell_type": "code",
   "execution_count": null,
   "id": "d4e353c7-097e-428a-aafc-9dea72c87e78",
   "metadata": {},
   "outputs": [],
   "source": [
    "# Select time period and and region\n",
    "\n",
    "cells = egh.isel_extent(ds_globe,map_domain+np.array([-1,1,-1,1])*0) # margin on each side\n",
    "\n",
    "ds = ds_globe.sel(time=slice(*time)).isel(cell=cells)"
   ]
  },
  {
   "cell_type": "code",
   "execution_count": null,
   "id": "18780ab3-8385-4eb8-ac79-6bdbd912bf87",
   "metadata": {},
   "outputs": [],
   "source": [
    "# Check average height of pressure levels\n",
    "\n",
    "zgm = ds['zg'].mean(dim=('time','cell'))\n",
    "\n",
    "plt.plot(ds['pressure']/100,zgm,'o')\n",
    "plt.grid()\n",
    "plt.ylim(0,2.1e3)\n",
    "plt.xlim(800,1000)\n",
    "plt.xlabel('Pressure [hPa]')\n",
    "plt.ylabel('Height [m]')"
   ]
  },
  {
   "cell_type": "code",
   "execution_count": null,
   "id": "358189b7-ef02-4371-9bb6-5df5d332c040",
   "metadata": {},
   "outputs": [],
   "source": [
    "%%time\n",
    "\n",
    "# Derive relevant parameters\n",
    "\n",
    "\n",
    "# Integrate qall\n",
    "ds['qallvi'] = (ds['qall'].integrate('pressure')/9.81) \\\n",
    "    .assign_attrs(long_name='Total condensate', units='kg/m^2')\n",
    "\n",
    "\n",
    "# Find max and min column velocity\n",
    "ds['wamax'] = ds['wa'].sel(pressure=slice(900e2,1000e2)).max(dim='pressure') \\\n",
    "        .assign_attrs(long_name='Max vert velocity below 900 hPa', units='m/2')\n",
    "\n",
    "ds['wamin'] = ds['wa'].sel(pressure=slice(900*100,1000*100)).min(dim='pressure') \\\n",
    "        .assign_attrs(long_name='Min vert velocity below 900 hPa', units='m/2')\n",
    "\n",
    "\n",
    "# Change units for precip\n",
    "ds['pr'].data = ds['pr'].data*3600*24/1e3*1e3\n",
    "ds['pr'].attrs['units'] = 'mm/day'"
   ]
  },
  {
   "cell_type": "code",
   "execution_count": null,
   "id": "31ff3e70-9bd2-4435-a8bb-b80ddce2014e",
   "metadata": {},
   "outputs": [],
   "source": [
    "# Map plotting functions\n",
    "\n",
    "def draw_map(ax,map_domain):\n",
    "    ax.set_extent(map_domain, crs=ccrs.PlateCarree())\n",
    "    ax.add_feature(cf.NaturalEarthFeature('physical', 'land', '10m'),\n",
    "               facecolor='none', edgecolor='red', linewidth=1)\n",
    "    gl = ax.gridlines(draw_labels=True)\n",
    "    gl.top_labels = False\n",
    "    gl.right_labels = False\n",
    "\n",
    "def plot_annotate(ax,da):\n",
    "    cb = plt.colorbar(im, ax=ax, shrink=0.9, aspect=30, pad=0.02,\n",
    "                      label=f\"{da.attrs['long_name']:s} [{da.attrs['units']:s}]\")\n",
    "    datestr = da.time.values.astype('datetime64[h]').item().strftime('%Y-%m-%dT%H')\n",
    "    if 'healpix_nside' in da.crs.attrs:\n",
    "        zoom = np.log2(da.crs.healpix_nside).astype(int)\n",
    "        ax.set_title(datestr+f\"  zoom={zoom:d}\")\n",
    "    else:\n",
    "        ax.set_title(datestr)"
   ]
  },
  {
   "cell_type": "code",
   "execution_count": null,
   "id": "acf20d1f-a947-4e98-a86c-4d379fd30455",
   "metadata": {},
   "outputs": [],
   "source": [
    "# Plot example maps\n",
    "\n",
    "time_step = np.timedelta64(10,'D')\n",
    "\n",
    "plot_path = f\"./figures/map_ex/\"\n",
    "# plot_path = f\"/work/bb1153/b382422/global_hackathon/zoom{zoom:d}_4x4/\"\n",
    "figsize = (14,4)\n",
    "\n",
    "for t in np.arange(ds.time[0].values,ds.time[-1].values,time_step):\n",
    "\n",
    "    fig, axs = plt.subplots(1,3,figsize=figsize,\n",
    "                            subplot_kw={\"projection\": ccrs.PlateCarree()},\n",
    "                            constrained_layout=True)\n",
    "\n",
    "    da = ds['qallvi'].sel(time=t)\n",
    "    ax = axs[0]\n",
    "    draw_map(ax,map_domain)\n",
    "    im = egh.healpix_show(da, ax=ax, cmap='Blues_r', vmin=0, vmax=1)\n",
    "    plot_annotate(ax,da)\n",
    "\n",
    "    da = ds['wamax'].sel(time=t)\n",
    "    ax = axs[1]\n",
    "    draw_map(ax,map_domain)\n",
    "    im = egh.healpix_show(da, ax=ax, cmap='bwr', vmin=-0.4, vmax=0.4)\n",
    "    plot_annotate(ax,da)\n",
    "\n",
    "    da = ds['pr'].sel(time=t)\n",
    "    ax = axs[2]\n",
    "    draw_map(ax,map_domain)\n",
    "    im = egh.healpix_show(da, ax=ax, cmap='Purples',vmin=0, vmax=25)\n",
    "    plot_annotate(ax,da)\n",
    "\n",
    "    datestr = t.astype('datetime64[h]').item().strftime('%Y-%m-%dT%H')\n",
    "    plt.savefig(plot_path+datestr,bbox_inches='tight',dpi=600)\n",
    "\n",
    "    print(datestr)\n",
    "    # plt.close(fig)"
   ]
  },
  {
   "cell_type": "code",
   "execution_count": null,
   "id": "0e50c624-e4d2-48a1-af93-2c8d46950b33",
   "metadata": {},
   "outputs": [],
   "source": []
  }
 ],
 "metadata": {
  "kernelspec": {
   "display_name": "global-hackathon",
   "language": "python",
   "name": "global-hackathon"
  },
  "language_info": {
   "codemirror_mode": {
    "name": "ipython",
    "version": 3
   },
   "file_extension": ".py",
   "mimetype": "text/x-python",
   "name": "python",
   "nbconvert_exporter": "python",
   "pygments_lexer": "ipython3",
   "version": "3.12.10"
  }
 },
 "nbformat": 4,
 "nbformat_minor": 5
}
