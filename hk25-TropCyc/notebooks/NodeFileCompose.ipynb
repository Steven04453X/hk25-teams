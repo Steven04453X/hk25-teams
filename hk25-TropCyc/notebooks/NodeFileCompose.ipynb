{
 "cells": [
  {
   "cell_type": "markdown",
   "id": "79a2fc11-c487-4618-8907-1db144bdda08",
   "metadata": {},
   "source": [
    "# Using TempestExtremes' NodeFileCompose to extract cyclone-centered snapshots"
   ]
  },
  {
   "cell_type": "markdown",
   "id": "5dfd8bc3-4e10-497a-be10-c6d557a32d47",
   "metadata": {},
   "source": [
    "In this example, we extract SLP snapshots along the tracks in `TC_tracks/um_glm_n1280_GAL9_sample.csv`, which is a subset of three tracks.\n",
    "\n",
    "Snapshots should be retrieved for all TC points listed in the tracks csv, over a radius of 10°GCD around the cyclone center. \n",
    "Snapshots must be obtained from data at a resolution close to the simulation resolution in the tropics, \n",
    "and choosing NodeFileCompose parameters so that the resolution of the snapshots is similar to that of the simulation.\n",
    "\n",
    "In this case, we have pre-processed the data over a 0.1x0.1° grid. "
   ]
  },
  {
   "cell_type": "code",
   "execution_count": null,
   "id": "a5a171ef-41a4-4e1d-b546-fb474f3c8fdd",
   "metadata": {},
   "outputs": [],
   "source": [
    "# Activate your conda environment which must include tempestextremes + the hackathon packages such as intake, easygems etc.\n",
    "conda activate hackathon\n",
    "# If you have a message saying you need to initalize conda: \n",
    "## create a new cell with the `conda init` command\n",
    "## Run that cell\n",
    "## Delete the cell\n",
    "## Restart your kernel\n",
    "## Run the notebook again"
   ]
  },
  {
   "cell_type": "code",
   "execution_count": null,
   "id": "69e0b14c-577e-4de4-8b12-fbb93cf5e699",
   "metadata": {},
   "outputs": [],
   "source": [
    "# Script Parameters\n",
    "run='um_glm_n1280_GAL9' # Code of your simulation (must be the reference in the catalog)\n",
    "var=\"psl\"\n",
    "\n",
    "# Folders\n",
    "scr_dir='/work/scratch-nopw2/sbourdin/' # Change to your own scratch/temporary folder\n",
    "data_pp_dir=$scr_dir/$run/data_pp # dir to store preprocessed (pp) files\n",
    "\n",
    "# Input\n",
    "#tracks_file=\"../TC_tracks/$run.csv\"\n",
    "tracks_file=\"../TC_tracks/${run}_sample.csv\"\n",
    "\n",
    "# Output\n",
    "if ! [ -d ../snapshots/${var}/ ]; then mkdir ../snapshots/${var}/; fi\n",
    "snaps_file=\"../snapshots/${var}/${run}_${var}.nc\""
   ]
  },
  {
   "cell_type": "markdown",
   "id": "8ce36550-f407-42da-8316-7c19b325d19a",
   "metadata": {},
   "source": [
    "Before you start, make sure you have preprocessed the data you need with `TE_pre-processing.ipynb`: You must have the fields covering all the time steps in your tracks."
   ]
  },
  {
   "cell_type": "code",
   "execution_count": null,
   "id": "c9eddd7e-73fe-495b-a7b6-2206a4096cb2",
   "metadata": {
    "scrolled": true
   },
   "outputs": [],
   "source": [
    "# List pre-processed files for this variable\n",
    "ls $data_pp_dir/*$var*"
   ]
  },
  {
   "cell_type": "code",
   "execution_count": null,
   "id": "9681b62b-59a7-4560-80dc-91ea90f10d11",
   "metadata": {},
   "outputs": [],
   "source": [
    "## Prepare file list\n",
    "flist=`ls $data_pp_dir/*$var*`\n",
    "INPUT=\"\"\n",
    "for f in $flist\n",
    "do\n",
    "INPUT=\"$INPUT$f;\"\n",
    "done\n",
    "INPUT=${INPUT:0:-1} # Remove last ;"
   ]
  },
  {
   "cell_type": "markdown",
   "id": "9fe603ea-465d-45f2-b930-f76478dba132",
   "metadata": {},
   "source": [
    "In NodeFileCompose, we'll use an XY (square) box centered on the cyclone center. \n",
    "To avoid loss of information as much as possible, `dx` should be set to be close to the model resolution. Note `dx` is in °GCD. \n",
    "Then, adjust `resx` to make sure 1000km=10°GCD.\n",
    "For example, for a 10km grid, `dx=0.1` and `resx=100`."
   ]
  },
  {
   "cell_type": "code",
   "execution_count": null,
   "id": "03639b99-328b-4678-81e7-edc3e7ae25f8",
   "metadata": {
    "scrolled": true
   },
   "outputs": [],
   "source": [
    "NodeFileCompose \\\n",
    "--in_nodefile \"$tracks_file\" \\\n",
    "--in_nodefile_type \"SN\" \\\n",
    "--in_fmt \"(auto)\" \\\n",
    "--in_data \"$INPUT\" \\\n",
    "--out_data \"$snaps_file\" \\\n",
    "--var \"psl\" \\\n",
    "--varout \"psl\" \\\n",
    "--out_grid \"XY\" \\\n",
    "--dx 0.1 \\\n",
    "--resx 100 \\\n",
    "--snapshots"
   ]
  }
 ],
 "metadata": {
  "kernelspec": {
   "display_name": "Bash",
   "language": "bash",
   "name": "bash"
  },
  "language_info": {
   "codemirror_mode": "shell",
   "file_extension": ".sh",
   "mimetype": "text/x-sh",
   "name": "bash"
  }
 },
 "nbformat": 4,
 "nbformat_minor": 5
}
